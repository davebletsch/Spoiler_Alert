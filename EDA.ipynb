{
 "cells": [
  {
   "cell_type": "markdown",
   "metadata": {},
   "source": [
    "# EDA for NLP classification"
   ]
  },
  {
   "cell_type": "code",
   "execution_count": 8,
   "metadata": {},
   "outputs": [],
   "source": [
    "import pandas as pd\n",
    "import numpy as np\n",
    "import nltk\n",
    "# nltk.download()"
   ]
  },
  {
   "cell_type": "code",
   "execution_count": 9,
   "metadata": {},
   "outputs": [],
   "source": [
    "from nltk import sent_tokenize, word_tokenize\n",
    "from nltk.corpus import stopwords\n",
    "from nltk.stem import PorterStemmer, WordNetLemmatizer\n",
    "from nltk.probability import FreqDist\n",
    "import matplotlib.pyplot as plt\n",
    "from sklearn.model_selection import train_test_split\n",
    "from sklearn.feature_extraction.text import CountVectorizer\n",
    "from sklearn.feature_extraction.text import TfidfVectorizer\n",
    "from sklearn.feature_extraction.text import TfidfTransformer\n",
    "from sklearn.metrics import accuracy_score\n",
    "from sklearn.metrics import f1_score\n",
    "from sklearn.metrics import confusion_matrix\n",
    "from sklearn.naive_bayes import MultinomialNB\n",
    "from sklearn.ensemble import RandomForestClassifier\n",
    "from sklearn.pipeline import Pipeline"
   ]
  },
  {
   "cell_type": "markdown",
   "metadata": {},
   "source": [
    "Full dataset contains 500k+ observations and was way too large for our purposes. Instead, we read-in 3 samples of 10,000 observations each (spoilers and non-spoilers), to train our models."
   ]
  },
  {
   "cell_type": "code",
   "execution_count": 10,
   "metadata": {},
   "outputs": [],
   "source": [
    "# Samples with the same seed taken from larger dataset\n",
    "df_spoiler_1 = pd.read_csv('sampled_spoilers1.csv')\n",
    "df_spoiler_2 = pd.read_csv('sampled_spoilers2.csv')\n",
    "df_spoiler_3 = pd.read_csv('sampled_spoilers3.csv')\n",
    "\n",
    "df_nonspoiler_1 = pd.read_csv('sampled_nonspoilers1.csv')\n",
    "df_nonspoiler_2 = pd.read_csv('sampled_nonspoilers2.csv')\n",
    "df_nonspoiler_3 = pd.read_csv('sampled_nonspoilers3.csv')"
   ]
  },
  {
   "cell_type": "code",
   "execution_count": 11,
   "metadata": {},
   "outputs": [
    {
     "data": {
      "text/plain": [
       "(10000, 8)"
      ]
     },
     "execution_count": 11,
     "metadata": {},
     "output_type": "execute_result"
    }
   ],
   "source": [
    "df_nonspoiler_3.shape"
   ]
  },
  {
   "cell_type": "markdown",
   "metadata": {},
   "source": [
    "# TO COMPUTE: Null Accuracy of assuming all reviews contain spoilers"
   ]
  },
  {
   "cell_type": "code",
   "execution_count": 12,
   "metadata": {},
   "outputs": [],
   "source": [
    "# null_accuracy = (df_spoiler.shape[0])/(df_nospoiler.shape[0])\n",
    "# round(null_accuracy,4)"
   ]
  },
  {
   "cell_type": "code",
   "execution_count": 13,
   "metadata": {},
   "outputs": [
    {
     "data": {
      "text/html": [
       "<div>\n",
       "<style scoped>\n",
       "    .dataframe tbody tr th:only-of-type {\n",
       "        vertical-align: middle;\n",
       "    }\n",
       "\n",
       "    .dataframe tbody tr th {\n",
       "        vertical-align: top;\n",
       "    }\n",
       "\n",
       "    .dataframe thead th {\n",
       "        text-align: right;\n",
       "    }\n",
       "</style>\n",
       "<table border=\"1\" class=\"dataframe\">\n",
       "  <thead>\n",
       "    <tr style=\"text-align: right;\">\n",
       "      <th></th>\n",
       "      <th>Unnamed: 0</th>\n",
       "      <th>review_date</th>\n",
       "      <th>movie_id</th>\n",
       "      <th>user_id</th>\n",
       "      <th>is_spoiler</th>\n",
       "      <th>review_text</th>\n",
       "      <th>rating</th>\n",
       "      <th>review_summary</th>\n",
       "    </tr>\n",
       "  </thead>\n",
       "  <tbody>\n",
       "    <tr>\n",
       "      <th>0</th>\n",
       "      <td>309291</td>\n",
       "      <td>1 February 2003</td>\n",
       "      <td>tt0167261</td>\n",
       "      <td>ur2201918</td>\n",
       "      <td>True</td>\n",
       "      <td>First of all if you haven't seen the movie (or...</td>\n",
       "      <td>10</td>\n",
       "      <td>review of THE TWO TOWERS spoiler</td>\n",
       "    </tr>\n",
       "  </tbody>\n",
       "</table>\n",
       "</div>"
      ],
      "text/plain": [
       "   Unnamed: 0      review_date   movie_id    user_id  is_spoiler  \\\n",
       "0      309291  1 February 2003  tt0167261  ur2201918        True   \n",
       "\n",
       "                                         review_text  rating  \\\n",
       "0  First of all if you haven't seen the movie (or...      10   \n",
       "\n",
       "                     review_summary  \n",
       "0  review of THE TWO TOWERS spoiler  "
      ]
     },
     "execution_count": 13,
     "metadata": {},
     "output_type": "execute_result"
    }
   ],
   "source": [
    "df_spoiler_1.head(1)"
   ]
  },
  {
   "cell_type": "markdown",
   "metadata": {},
   "source": [
    "#### Isolate Review text"
   ]
  },
  {
   "cell_type": "code",
   "execution_count": 14,
   "metadata": {},
   "outputs": [],
   "source": [
    "def cleaner(review):\n",
    "    \n",
    "    \"\"\"\n",
    "    Breaks up a review into tokens using the nltk package\n",
    "    \"\"\"    \n",
    "    \n",
    "    # Divide sentences into words\n",
    "    words = word_tokenize(review)\n",
    "    \n",
    "    # Remove punctuation\n",
    "    tokens = [word for word in words if word.isalpha()]\n",
    "    \n",
    "    # Un-capitalize all words\n",
    "    tokens_lowercase = [token.lower() for token in tokens]\n",
    "    \n",
    "    # Remove stopwords\n",
    "    stop_words = set(stopwords.words('english'))\n",
    "    # ...including the following which appear often in both classes\n",
    "    new_stopwords = ['movie', 'file', 'one', 'story']\n",
    "    for w in new_stopwords:\n",
    "        stop_words.add(w)\n",
    "    final_words = [word for word in tokens_lowercase if not word in stop_words]\n",
    "    \n",
    "    return final_words"
   ]
  },
  {
   "cell_type": "markdown",
   "metadata": {},
   "source": [
    "### Clean and tokenize"
   ]
  },
  {
   "cell_type": "markdown",
   "metadata": {},
   "source": [
    "#### *** This function takes a long time to run on the full dataset (~5mins) ***"
   ]
  },
  {
   "cell_type": "code",
   "execution_count": 15,
   "metadata": {},
   "outputs": [],
   "source": [
    "df_spoiler_1['review_words'] = df_spoiler_1.review_text.apply(cleaner)\n",
    "df_spoiler_2['review_words'] = df_spoiler_2.review_text.apply(cleaner)\n",
    "df_spoiler_3['review_words'] = df_spoiler_3.review_text.apply(cleaner)\n",
    "\n",
    "df_nonspoiler_1['review_words'] = df_nonspoiler_1.review_text.apply(cleaner)\n",
    "df_nonspoiler_2['review_words'] = df_nonspoiler_2.review_text.apply(cleaner)\n",
    "df_nonspoiler_3['review_words'] = df_nonspoiler_3.review_text.apply(cleaner)"
   ]
  },
  {
   "cell_type": "markdown",
   "metadata": {},
   "source": [
    "### Add feature \"Review Length\""
   ]
  },
  {
   "cell_type": "code",
   "execution_count": 16,
   "metadata": {},
   "outputs": [],
   "source": [
    "df_spoiler_1['review_length'] = df_spoiler_1.review_words.apply(len)\n",
    "df_spoiler_2['review_length'] = df_spoiler_2.review_words.apply(len)\n",
    "df_spoiler_3['review_length'] = df_spoiler_3.review_words.apply(len)\n",
    "\n",
    "df_nonspoiler_1['review_length'] = df_nonspoiler_1.review_words.apply(len)\n",
    "df_nonspoiler_2['review_length'] = df_nonspoiler_2.review_words.apply(len)\n",
    "df_nonspoiler_3['review_length'] = df_nonspoiler_3.review_words.apply(len)"
   ]
  },
  {
   "cell_type": "code",
   "execution_count": 17,
   "metadata": {},
   "outputs": [
    {
     "data": {
      "text/html": [
       "<div>\n",
       "<style scoped>\n",
       "    .dataframe tbody tr th:only-of-type {\n",
       "        vertical-align: middle;\n",
       "    }\n",
       "\n",
       "    .dataframe tbody tr th {\n",
       "        vertical-align: top;\n",
       "    }\n",
       "\n",
       "    .dataframe thead th {\n",
       "        text-align: right;\n",
       "    }\n",
       "</style>\n",
       "<table border=\"1\" class=\"dataframe\">\n",
       "  <thead>\n",
       "    <tr style=\"text-align: right;\">\n",
       "      <th></th>\n",
       "      <th>Unnamed: 0</th>\n",
       "      <th>review_date</th>\n",
       "      <th>movie_id</th>\n",
       "      <th>user_id</th>\n",
       "      <th>is_spoiler</th>\n",
       "      <th>review_text</th>\n",
       "      <th>rating</th>\n",
       "      <th>review_summary</th>\n",
       "      <th>review_words</th>\n",
       "      <th>review_length</th>\n",
       "    </tr>\n",
       "  </thead>\n",
       "  <tbody>\n",
       "    <tr>\n",
       "      <th>0</th>\n",
       "      <td>420187</td>\n",
       "      <td>22 February 2008</td>\n",
       "      <td>tt0467406</td>\n",
       "      <td>ur2449095</td>\n",
       "      <td>False</td>\n",
       "      <td>This is a hugely enjoyable film. Juno is a hig...</td>\n",
       "      <td>7</td>\n",
       "      <td>Dealing with stuff way past her maturity</td>\n",
       "      <td>[hugely, enjoyable, film, juno, high, school, ...</td>\n",
       "      <td>116</td>\n",
       "    </tr>\n",
       "  </tbody>\n",
       "</table>\n",
       "</div>"
      ],
      "text/plain": [
       "   Unnamed: 0       review_date   movie_id    user_id  is_spoiler  \\\n",
       "0      420187  22 February 2008  tt0467406  ur2449095       False   \n",
       "\n",
       "                                         review_text  rating  \\\n",
       "0  This is a hugely enjoyable film. Juno is a hig...       7   \n",
       "\n",
       "                             review_summary  \\\n",
       "0  Dealing with stuff way past her maturity   \n",
       "\n",
       "                                        review_words  review_length  \n",
       "0  [hugely, enjoyable, film, juno, high, school, ...            116  "
      ]
     },
     "execution_count": 17,
     "metadata": {},
     "output_type": "execute_result"
    }
   ],
   "source": [
    "df_nonspoiler_1.head(1)"
   ]
  },
  {
   "cell_type": "code",
   "execution_count": 18,
   "metadata": {},
   "outputs": [],
   "source": [
    "# remove unneccessary columns\n",
    "drop_columns = ['review_date', 'user_id', 'review_text', 'rating', 'review_summary']\n",
    "\n",
    "# df_spoiler_1.drop(drop_columns, axis=1, inplace=True)\n",
    "# df_spoiler_2.drop(drop_columns, axis=1, inplace=True)\n",
    "# df_spoiler_3.drop(drop_columns, axis=1, inplace=True)\n",
    "\n",
    "# df_nonspoiler_1.drop(drop_columns, axis=1, inplace=True)\n",
    "# df_nonspoiler_2.drop(drop_columns, axis=1, inplace=True)\n",
    "# df_nonspoiler_3.drop(drop_columns, axis=1, inplace=True)"
   ]
  },
  {
   "cell_type": "code",
   "execution_count": 19,
   "metadata": {},
   "outputs": [],
   "source": [
    "# convert T/F to 1/0\n",
    "df_spoiler_1.is_spoiler = df_spoiler_1.is_spoiler.astype(int)\n",
    "df_spoiler_2.is_spoiler = df_spoiler_2.is_spoiler.astype(int)\n",
    "df_spoiler_3.is_spoiler = df_spoiler_3.is_spoiler.astype(int)\n",
    "\n",
    "df_nonspoiler_1.is_spoiler = df_nonspoiler_1.is_spoiler.astype(int)\n",
    "df_nonspoiler_2.is_spoiler = df_nonspoiler_2.is_spoiler.astype(int)\n",
    "df_nonspoiler_3.is_spoiler = df_nonspoiler_3.is_spoiler.astype(int)"
   ]
  },
  {
   "cell_type": "code",
   "execution_count": 20,
   "metadata": {},
   "outputs": [
    {
     "data": {
      "text/html": [
       "<div>\n",
       "<style scoped>\n",
       "    .dataframe tbody tr th:only-of-type {\n",
       "        vertical-align: middle;\n",
       "    }\n",
       "\n",
       "    .dataframe tbody tr th {\n",
       "        vertical-align: top;\n",
       "    }\n",
       "\n",
       "    .dataframe thead th {\n",
       "        text-align: right;\n",
       "    }\n",
       "</style>\n",
       "<table border=\"1\" class=\"dataframe\">\n",
       "  <thead>\n",
       "    <tr style=\"text-align: right;\">\n",
       "      <th></th>\n",
       "      <th>review_length</th>\n",
       "    </tr>\n",
       "  </thead>\n",
       "  <tbody>\n",
       "    <tr>\n",
       "      <th>0</th>\n",
       "      <td>122</td>\n",
       "    </tr>\n",
       "  </tbody>\n",
       "</table>\n",
       "</div>"
      ],
      "text/plain": [
       "   review_length\n",
       "0            122"
      ]
     },
     "execution_count": 20,
     "metadata": {},
     "output_type": "execute_result"
    }
   ],
   "source": [
    "df_spoiler_1[['review_length']].head(1)"
   ]
  },
  {
   "cell_type": "markdown",
   "metadata": {},
   "source": [
    "#### Lemmetize Reviews"
   ]
  },
  {
   "cell_type": "code",
   "execution_count": 21,
   "metadata": {},
   "outputs": [],
   "source": [
    "processed_data_sp1 = list(df_spoiler_1.review_words)\n",
    "processed_data_sp2 = list(df_spoiler_2.review_words)\n",
    "processed_data_sp3 = list(df_spoiler_3.review_words)\n",
    "\n",
    "processed_data_ns1 = list(df_nonspoiler_1.review_words)\n",
    "processed_data_ns2 = list(df_nonspoiler_2.review_words)\n",
    "processed_data_ns3 = list(df_nonspoiler_3.review_words)"
   ]
  },
  {
   "cell_type": "code",
   "execution_count": 22,
   "metadata": {},
   "outputs": [],
   "source": [
    "# creating a list with all lemmatized outputs\n",
    "lemmatizer = WordNetLemmatizer()"
   ]
  },
  {
   "cell_type": "code",
   "execution_count": 23,
   "metadata": {},
   "outputs": [],
   "source": [
    "lemmatized_output_sp1 = []\n",
    "lemmatized_output_sp2 = []\n",
    "lemmatized_output_sp3 = []\n",
    "\n",
    "lemmatized_output_ns1 = []\n",
    "lemmatized_output_ns2 = []\n",
    "lemmatized_output_ns3 = []\n",
    "\n",
    "for listy in processed_data_sp1:\n",
    "    lemmed = ' '.join([lemmatizer.lemmatize(w, pos='v') for w in listy])\n",
    "    lemmatized_output_sp1.append(lemmed)\n",
    "    \n",
    "for listy in processed_data_sp2:\n",
    "    lemmed = ' '.join([lemmatizer.lemmatize(w, pos='v') for w in listy])\n",
    "    lemmatized_output_sp2.append(lemmed)\n",
    "    \n",
    "for listy in processed_data_sp3:\n",
    "    lemmed = ' '.join([lemmatizer.lemmatize(w, pos='v') for w in listy])\n",
    "    lemmatized_output_sp3.append(lemmed)\n",
    "    \n",
    "for listy in processed_data_ns1:\n",
    "    lemmed = ' '.join([lemmatizer.lemmatize(w, pos='v') for w in listy])\n",
    "    lemmatized_output_ns1.append(lemmed)\n",
    "    \n",
    "for listy in processed_data_ns2:\n",
    "    lemmed = ' '.join([lemmatizer.lemmatize(w, pos='v') for w in listy])\n",
    "    lemmatized_output_ns2.append(lemmed)\n",
    "    \n",
    "for listy in processed_data_ns3:\n",
    "    lemmed = ' '.join([lemmatizer.lemmatize(w, pos='v') for w in listy])\n",
    "    lemmatized_output_ns3.append(lemmed)"
   ]
  },
  {
   "cell_type": "code",
   "execution_count": 24,
   "metadata": {},
   "outputs": [
    {
     "name": "stdout",
     "output_type": "stream",
     "text": [
      "10000\n"
     ]
    }
   ],
   "source": [
    "# Lemmatized words of 10,000 review samples\n",
    "X_lem_sp1 = lemmatized_output_sp1\n",
    "X_lem_sp2 = lemmatized_output_sp2\n",
    "X_lem_sp3 = lemmatized_output_sp3\n",
    "\n",
    "X_lem_ns1 = lemmatized_output_ns1\n",
    "X_lem_ns2 = lemmatized_output_ns2\n",
    "X_lem_ns3 = lemmatized_output_ns3\n",
    "\n",
    "print(len(X_lem_ns1))"
   ]
  },
  {
   "cell_type": "code",
   "execution_count": 25,
   "metadata": {},
   "outputs": [],
   "source": [
    "X_lem = [X_lem_sp1, X_lem_sp2, X_lem_sp3, X_lem_ns1, X_lem_ns2, X_lem_ns3]"
   ]
  },
  {
   "cell_type": "markdown",
   "metadata": {},
   "source": [
    "#### Tokenize using TF-IDF Vectorizer"
   ]
  },
  {
   "cell_type": "code",
   "execution_count": 26,
   "metadata": {},
   "outputs": [],
   "source": [
    "tfidf_sp1 = TfidfVectorizer()\n",
    "tfidf_sp2 = TfidfVectorizer()\n",
    "tfidf_sp3 = TfidfVectorizer()\n",
    "\n",
    "tfidf_ns1 = TfidfVectorizer()\n",
    "tfidf_ns2 = TfidfVectorizer()\n",
    "tfidf_ns3 = TfidfVectorizer()"
   ]
  },
  {
   "cell_type": "code",
   "execution_count": 27,
   "metadata": {},
   "outputs": [],
   "source": [
    "# This will run for 45-60 seconds\n",
    "tokenized_reviews_sp1 = tfidf_sp1.fit_transform(X_lem_sp1)\n",
    "tokenized_reviews_sp2 = tfidf_sp2.fit_transform(X_lem_sp2)\n",
    "tokenized_reviews_sp3 = tfidf_sp3.fit_transform(X_lem_sp3)\n",
    "\n",
    "tokenized_reviews_ns1 = tfidf_ns1.fit_transform(X_lem_ns1)\n",
    "tokenized_reviews_ns2 = tfidf_ns2.fit_transform(X_lem_ns2)\n",
    "tokenized_reviews_ns3 = tfidf_ns3.fit_transform(X_lem_ns3)"
   ]
  },
  {
   "cell_type": "code",
   "execution_count": 28,
   "metadata": {},
   "outputs": [
    {
     "data": {
      "text/plain": [
       "<10000x35059 sparse matrix of type '<class 'numpy.float64'>'\n",
       "\twith 877838 stored elements in Compressed Sparse Row format>"
      ]
     },
     "execution_count": 28,
     "metadata": {},
     "output_type": "execute_result"
    }
   ],
   "source": [
    "# tokenized_reviews_sp1\n",
    "\n",
    "tokenized_reviews_ns1"
   ]
  },
  {
   "cell_type": "markdown",
   "metadata": {},
   "source": [
    "#### Merge length and TF-IDF dfs"
   ]
  },
  {
   "cell_type": "code",
   "execution_count": 30,
   "metadata": {},
   "outputs": [],
   "source": [
    "df_tokenized_reviews_sp1 = pd.DataFrame(tokenized_reviews_sp1.toarray(), columns=tfidf_sp1.get_feature_names())"
   ]
  },
  {
   "cell_type": "code",
   "execution_count": 31,
   "metadata": {},
   "outputs": [],
   "source": [
    "df_sp1 = df_tokenized_reviews_sp1.merge(df_spoiler_1[['review_length']], left_index=True, right_index=True)"
   ]
  },
  {
   "cell_type": "code",
   "execution_count": 32,
   "metadata": {},
   "outputs": [],
   "source": [
    "df_tokenized_reviews_sp2 = pd.DataFrame(tokenized_reviews_sp2.toarray(), columns=tfidf_sp2.get_feature_names())"
   ]
  },
  {
   "cell_type": "code",
   "execution_count": 33,
   "metadata": {},
   "outputs": [],
   "source": [
    "df_sp2 = df_tokenized_reviews_sp2.merge(df_spoiler_2[['review_length']], left_index=True, right_index=True)"
   ]
  },
  {
   "cell_type": "code",
   "execution_count": 34,
   "metadata": {},
   "outputs": [],
   "source": [
    "df_tokenized_reviews_sp3 = pd.DataFrame(tokenized_reviews_sp3.toarray(), columns=tfidf_sp3.get_feature_names())"
   ]
  },
  {
   "cell_type": "code",
   "execution_count": 35,
   "metadata": {},
   "outputs": [],
   "source": [
    "df_sp3 = df_tokenized_reviews_sp3.merge(df_spoiler_3[['review_length']], left_index=True, right_index=True)"
   ]
  },
  {
   "cell_type": "code",
   "execution_count": 36,
   "metadata": {},
   "outputs": [],
   "source": [
    "df_tokenized_reviews_ns1 = pd.DataFrame(tokenized_reviews_ns1.toarray(), columns=tfidf_ns1.get_feature_names())"
   ]
  },
  {
   "cell_type": "code",
   "execution_count": 37,
   "metadata": {},
   "outputs": [],
   "source": [
    "df_ns1 = df_tokenized_reviews_ns1.merge(df_nonspoiler_1[['review_length']], left_index=True, right_index=True)"
   ]
  },
  {
   "cell_type": "code",
   "execution_count": 38,
   "metadata": {},
   "outputs": [],
   "source": [
    "df_tokenized_reviews_ns2 = pd.DataFrame(tokenized_reviews_ns2.toarray(), columns=tfidf_ns2.get_feature_names())"
   ]
  },
  {
   "cell_type": "code",
   "execution_count": 39,
   "metadata": {},
   "outputs": [],
   "source": [
    "df_ns2 = df_tokenized_reviews_ns2.merge(df_nonspoiler_2[['review_length']], left_index=True, right_index=True)"
   ]
  },
  {
   "cell_type": "code",
   "execution_count": 40,
   "metadata": {},
   "outputs": [],
   "source": [
    "df_tokenized_reviews_ns3 = pd.DataFrame(tokenized_reviews_ns3.toarray(), columns=tfidf_ns3.get_feature_names())"
   ]
  },
  {
   "cell_type": "code",
   "execution_count": 41,
   "metadata": {},
   "outputs": [],
   "source": [
    "df_ns3 = df_tokenized_reviews_ns3.merge(df_nonspoiler_3[['review_length']], left_index=True, right_index=True)"
   ]
  },
  {
   "cell_type": "markdown",
   "metadata": {},
   "source": [
    "## Modeling"
   ]
  },
  {
   "cell_type": "code",
   "execution_count": 42,
   "metadata": {},
   "outputs": [],
   "source": [
    "target_sp1 = df_spoiler_1.is_spoiler\n",
    "target_sp2 = df_spoiler_2.is_spoiler\n",
    "target_sp3 = df_spoiler_3.is_spoiler\n",
    "\n",
    "target_ns1 = df_nonspoiler_1.is_spoiler\n",
    "target_ns2 = df_nonspoiler_2.is_spoiler\n",
    "target_ns3 = df_nonspoiler_3.is_spoiler"
   ]
  },
  {
   "cell_type": "markdown",
   "metadata": {},
   "source": [
    "## Naive Bayes"
   ]
  },
  {
   "cell_type": "code",
   "execution_count": 43,
   "metadata": {},
   "outputs": [],
   "source": [
    "# X = pd.DataFrame(X_lem, data_sample.review_length).reset_index()\n",
    "# X.columns = ['review_length', 'X_lem']\n"
   ]
  },
  {
   "cell_type": "code",
   "execution_count": 44,
   "metadata": {},
   "outputs": [],
   "source": [
    "# X.head()"
   ]
  },
  {
   "cell_type": "code",
   "execution_count": 45,
   "metadata": {},
   "outputs": [],
   "source": [
    "# Test/Train split lemmatized \n",
    "X_train_sp1, X_test_sp1, y_train_sp1, y_test_sp1 = train_test_split(df_sp1, target_sp1, test_size=0.20, random_state=1)\n",
    "X_train_sp2, X_test_sp2, y_train_sp2, y_test_sp2 = train_test_split(df_sp2, target_sp2, test_size=0.20, random_state=1)\n",
    "X_train_sp3, X_test_sp3, y_train_sp3, y_test_sp3 = train_test_split(df_sp3, target_sp3, test_size=0.20, random_state=1)\n",
    "\n",
    "X_train_ns1, X_test_ns1, y_train_ns1, y_test_ns1 = train_test_split(df_ns1, target_ns1, test_size=0.20, random_state=1)\n",
    "X_train_ns2, X_test_ns2, y_train_ns2, y_test_ns2 = train_test_split(df_ns2, target_ns2, test_size=0.20, random_state=1)\n",
    "X_train_ns3, X_test_ns3, y_train_ns3, y_test_ns3 = train_test_split(df_ns3, target_ns3, test_size=0.20, random_state=1)\n"
   ]
  },
  {
   "cell_type": "markdown",
   "metadata": {},
   "source": [
    "#### Naive Bayes classifier"
   ]
  },
  {
   "cell_type": "code",
   "execution_count": 46,
   "metadata": {},
   "outputs": [],
   "source": [
    "nb_classifier = MultinomialNB()"
   ]
  },
  {
   "cell_type": "code",
   "execution_count": 47,
   "metadata": {},
   "outputs": [],
   "source": [
    "nb_classifier.fit(X_train_sp1, y_train_sp1)\n",
    "nb_train_preds = nb_classifier.predict(X_train_sp1)\n",
    "nb_test_preds = nb_classifier.predict(X_test_sp1)"
   ]
  },
  {
   "cell_type": "code",
   "execution_count": 48,
   "metadata": {},
   "outputs": [],
   "source": [
    "nb_train_score = accuracy_score(y_train_sp1, nb_train_preds)\n",
    "nb_test_score = accuracy_score(y_test_sp1, nb_test_preds)"
   ]
  },
  {
   "cell_type": "code",
   "execution_count": 49,
   "metadata": {},
   "outputs": [
    {
     "name": "stdout",
     "output_type": "stream",
     "text": [
      "Multinomial Naive Bayes\n",
      "Training Accuracy: 1.0 \t\t Testing Accuracy: 1.0\n",
      "\n",
      "----------------------------------------------------------------------\n"
     ]
    }
   ],
   "source": [
    "print(\"Multinomial Naive Bayes\")\n",
    "print(\"Training Accuracy: {:.4} \\t\\t Testing Accuracy: {:.4}\".format(nb_train_score, nb_test_score))\n",
    "print(\"\")\n",
    "print('-'*70)"
   ]
  },
  {
   "cell_type": "markdown",
   "metadata": {},
   "source": [
    "#### Confusion Matrix (Naive Bayes Model)"
   ]
  },
  {
   "cell_type": "code",
   "execution_count": 71,
   "metadata": {},
   "outputs": [
    {
     "name": "stdout",
     "output_type": "stream",
     "text": [
      "              precision    recall  f1-score   support\n",
      "\n",
      "           0       0.68      0.62      0.65      9887\n",
      "           1       0.66      0.71      0.68     10113\n",
      "\n",
      "    accuracy                           0.67     20000\n",
      "   macro avg       0.67      0.67      0.67     20000\n",
      "weighted avg       0.67      0.67      0.67     20000\n",
      "\n"
     ]
    },
    {
     "data": {
      "image/png": "[encoded data removed]",
      "text/plain": [
       "<Figure size 432x288 with 1 Axes>"
      ]
     },
     "metadata": {},
     "output_type": "display_data"
    }
   ],
   "source": [
    "from sklearn.metrics import confusion_matrix, classification_report\n",
    "import seaborn as sns; sns.set()\n",
    "\n",
    "\n",
    "mat = confusion_matrix(y_test, nb_test_preds)\n",
    "sns.heatmap(mat.T, square=True, annot=True, fmt='d', cbar=False,\n",
    "            xticklabels=['Spoiler', 'Not_Spoiler'], yticklabels=['Spoiler', 'Not_Spoiler'])\n",
    "plt.xlabel('Actual')\n",
    "plt.ylabel('Predicted', rotation='horizontal', ha='right');\n",
    "print(classification_report(y_test, nb_test_preds))"
   ]
  },
  {
   "cell_type": "markdown",
   "metadata": {},
   "source": [
    "#### Confirming labels"
   ]
  },
  {
   "cell_type": "code",
   "execution_count": 215,
   "metadata": {},
   "outputs": [
    {
     "name": "stdout",
     "output_type": "stream",
     "text": [
      "[[    0 29966]\n",
      " [    1 30034]]\n"
     ]
    }
   ],
   "source": [
    "# Checking test labels (Actual)\n",
    "unique, counts = np.unique(y_test, return_counts=True)\n",
    "print (np.asarray((unique, counts)).T)"
   ]
  },
  {
   "cell_type": "code",
   "execution_count": 220,
   "metadata": {
    "scrolled": true
   },
   "outputs": [
    {
     "name": "stdout",
     "output_type": "stream",
     "text": [
      "[[    0 28149]\n",
      " [    1 31851]]\n"
     ]
    }
   ],
   "source": [
    "# Checking test labels (Predicted)\n",
    "unique, counts = np.unique(nb_test_preds, return_counts=True)\n",
    "print (np.asarray((unique, counts)).T)"
   ]
  },
  {
   "cell_type": "markdown",
   "metadata": {},
   "source": [
    "## Naive Bayes \"w/o Length\""
   ]
  },
  {
   "cell_type": "code",
   "execution_count": 230,
   "metadata": {},
   "outputs": [],
   "source": [
    "X_train, X_test, y_train, y_test = train_test_split(X, target_sample, test_size=0.20, random_state=1)"
   ]
  },
  {
   "cell_type": "markdown",
   "metadata": {},
   "source": [
    "#### Naive Bayes classifier"
   ]
  },
  {
   "cell_type": "code",
   "execution_count": 231,
   "metadata": {},
   "outputs": [],
   "source": [
    "nb_classifier = MultinomialNB()"
   ]
  },
  {
   "cell_type": "code",
   "execution_count": 234,
   "metadata": {},
   "outputs": [
    {
     "ename": "ValueError",
     "evalue": "Expected 2D array, got 1D array instead:\narray=[189 132 134 ... 143 120 163].\nReshape your data either using array.reshape(-1, 1) if your data has a single feature or array.reshape(1, -1) if it contains a single sample.",
     "output_type": "error",
     "traceback": [
      "\u001b[0;31m---------------------------------------------------------------------------\u001b[0m",
      "\u001b[0;31mValueError\u001b[0m                                Traceback (most recent call last)",
      "\u001b[0;32m<ipython-input-234-3bf87323a54d>\u001b[0m in \u001b[0;36m<module>\u001b[0;34m\u001b[0m\n\u001b[0;32m----> 1\u001b[0;31m \u001b[0mnb_classifier\u001b[0m\u001b[0;34m.\u001b[0m\u001b[0mfit\u001b[0m\u001b[0;34m(\u001b[0m\u001b[0mX_train\u001b[0m\u001b[0;34m,\u001b[0m \u001b[0my_train\u001b[0m\u001b[0;34m)\u001b[0m\u001b[0;34m\u001b[0m\u001b[0;34m\u001b[0m\u001b[0m\n\u001b[0m\u001b[1;32m      2\u001b[0m \u001b[0mnb_train_preds\u001b[0m \u001b[0;34m=\u001b[0m \u001b[0mnb_classifier\u001b[0m\u001b[0;34m.\u001b[0m\u001b[0mpredict\u001b[0m\u001b[0;34m(\u001b[0m\u001b[0mX_train\u001b[0m\u001b[0;34m)\u001b[0m\u001b[0;34m\u001b[0m\u001b[0;34m\u001b[0m\u001b[0m\n\u001b[1;32m      3\u001b[0m \u001b[0mnb_test_preds\u001b[0m \u001b[0;34m=\u001b[0m \u001b[0mnb_classifier\u001b[0m\u001b[0;34m.\u001b[0m\u001b[0mpredict\u001b[0m\u001b[0;34m(\u001b[0m\u001b[0mX_test\u001b[0m\u001b[0;34m)\u001b[0m\u001b[0;34m\u001b[0m\u001b[0;34m\u001b[0m\u001b[0m\n",
      "\u001b[0;32m~/anaconda3/lib/python3.7/site-packages/sklearn/naive_bayes.py\u001b[0m in \u001b[0;36mfit\u001b[0;34m(self, X, y, sample_weight)\u001b[0m\n\u001b[1;32m    607\u001b[0m         \u001b[0mself\u001b[0m \u001b[0;34m:\u001b[0m \u001b[0mobject\u001b[0m\u001b[0;34m\u001b[0m\u001b[0;34m\u001b[0m\u001b[0m\n\u001b[1;32m    608\u001b[0m         \"\"\"\n\u001b[0;32m--> 609\u001b[0;31m         \u001b[0mX\u001b[0m\u001b[0;34m,\u001b[0m \u001b[0my\u001b[0m \u001b[0;34m=\u001b[0m \u001b[0mself\u001b[0m\u001b[0;34m.\u001b[0m\u001b[0m_check_X_y\u001b[0m\u001b[0;34m(\u001b[0m\u001b[0mX\u001b[0m\u001b[0;34m,\u001b[0m \u001b[0my\u001b[0m\u001b[0;34m)\u001b[0m\u001b[0;34m\u001b[0m\u001b[0;34m\u001b[0m\u001b[0m\n\u001b[0m\u001b[1;32m    610\u001b[0m         \u001b[0m_\u001b[0m\u001b[0;34m,\u001b[0m \u001b[0mn_features\u001b[0m \u001b[0;34m=\u001b[0m \u001b[0mX\u001b[0m\u001b[0;34m.\u001b[0m\u001b[0mshape\u001b[0m\u001b[0;34m\u001b[0m\u001b[0;34m\u001b[0m\u001b[0m\n\u001b[1;32m    611\u001b[0m         \u001b[0mself\u001b[0m\u001b[0;34m.\u001b[0m\u001b[0mn_features_\u001b[0m \u001b[0;34m=\u001b[0m \u001b[0mn_features\u001b[0m\u001b[0;34m\u001b[0m\u001b[0;34m\u001b[0m\u001b[0m\n",
      "\u001b[0;32m~/anaconda3/lib/python3.7/site-packages/sklearn/naive_bayes.py\u001b[0m in \u001b[0;36m_check_X_y\u001b[0;34m(self, X, y)\u001b[0m\n\u001b[1;32m    473\u001b[0m \u001b[0;34m\u001b[0m\u001b[0m\n\u001b[1;32m    474\u001b[0m     \u001b[0;32mdef\u001b[0m \u001b[0m_check_X_y\u001b[0m\u001b[0;34m(\u001b[0m\u001b[0mself\u001b[0m\u001b[0;34m,\u001b[0m \u001b[0mX\u001b[0m\u001b[0;34m,\u001b[0m \u001b[0my\u001b[0m\u001b[0;34m)\u001b[0m\u001b[0;34m:\u001b[0m\u001b[0;34m\u001b[0m\u001b[0;34m\u001b[0m\u001b[0m\n\u001b[0;32m--> 475\u001b[0;31m         \u001b[0;32mreturn\u001b[0m \u001b[0mcheck_X_y\u001b[0m\u001b[0;34m(\u001b[0m\u001b[0mX\u001b[0m\u001b[0;34m,\u001b[0m \u001b[0my\u001b[0m\u001b[0;34m,\u001b[0m \u001b[0maccept_sparse\u001b[0m\u001b[0;34m=\u001b[0m\u001b[0;34m'csr'\u001b[0m\u001b[0;34m)\u001b[0m\u001b[0;34m\u001b[0m\u001b[0;34m\u001b[0m\u001b[0m\n\u001b[0m\u001b[1;32m    476\u001b[0m \u001b[0;34m\u001b[0m\u001b[0m\n\u001b[1;32m    477\u001b[0m     \u001b[0;32mdef\u001b[0m \u001b[0m_update_class_log_prior\u001b[0m\u001b[0;34m(\u001b[0m\u001b[0mself\u001b[0m\u001b[0;34m,\u001b[0m \u001b[0mclass_prior\u001b[0m\u001b[0;34m=\u001b[0m\u001b[0;32mNone\u001b[0m\u001b[0;34m)\u001b[0m\u001b[0;34m:\u001b[0m\u001b[0;34m\u001b[0m\u001b[0;34m\u001b[0m\u001b[0m\n",
      "\u001b[0;32m~/anaconda3/lib/python3.7/site-packages/sklearn/utils/validation.py\u001b[0m in \u001b[0;36mcheck_X_y\u001b[0;34m(X, y, accept_sparse, accept_large_sparse, dtype, order, copy, force_all_finite, ensure_2d, allow_nd, multi_output, ensure_min_samples, ensure_min_features, y_numeric, warn_on_dtype, estimator)\u001b[0m\n\u001b[1;32m    753\u001b[0m                     \u001b[0mensure_min_features\u001b[0m\u001b[0;34m=\u001b[0m\u001b[0mensure_min_features\u001b[0m\u001b[0;34m,\u001b[0m\u001b[0;34m\u001b[0m\u001b[0;34m\u001b[0m\u001b[0m\n\u001b[1;32m    754\u001b[0m                     \u001b[0mwarn_on_dtype\u001b[0m\u001b[0;34m=\u001b[0m\u001b[0mwarn_on_dtype\u001b[0m\u001b[0;34m,\u001b[0m\u001b[0;34m\u001b[0m\u001b[0;34m\u001b[0m\u001b[0m\n\u001b[0;32m--> 755\u001b[0;31m                     estimator=estimator)\n\u001b[0m\u001b[1;32m    756\u001b[0m     \u001b[0;32mif\u001b[0m \u001b[0mmulti_output\u001b[0m\u001b[0;34m:\u001b[0m\u001b[0;34m\u001b[0m\u001b[0;34m\u001b[0m\u001b[0m\n\u001b[1;32m    757\u001b[0m         y = check_array(y, 'csr', force_all_finite=True, ensure_2d=False,\n",
      "\u001b[0;32m~/anaconda3/lib/python3.7/site-packages/sklearn/utils/validation.py\u001b[0m in \u001b[0;36mcheck_array\u001b[0;34m(array, accept_sparse, accept_large_sparse, dtype, order, copy, force_all_finite, ensure_2d, allow_nd, ensure_min_samples, ensure_min_features, warn_on_dtype, estimator)\u001b[0m\n\u001b[1;32m    554\u001b[0m                     \u001b[0;34m\"Reshape your data either using array.reshape(-1, 1) if \"\u001b[0m\u001b[0;34m\u001b[0m\u001b[0;34m\u001b[0m\u001b[0m\n\u001b[1;32m    555\u001b[0m                     \u001b[0;34m\"your data has a single feature or array.reshape(1, -1) \"\u001b[0m\u001b[0;34m\u001b[0m\u001b[0;34m\u001b[0m\u001b[0m\n\u001b[0;32m--> 556\u001b[0;31m                     \"if it contains a single sample.\".format(array))\n\u001b[0m\u001b[1;32m    557\u001b[0m \u001b[0;34m\u001b[0m\u001b[0m\n\u001b[1;32m    558\u001b[0m         \u001b[0;31m# in the future np.flexible dtypes will be handled like object dtypes\u001b[0m\u001b[0;34m\u001b[0m\u001b[0;34m\u001b[0m\u001b[0;34m\u001b[0m\u001b[0m\n",
      "\u001b[0;31mValueError\u001b[0m: Expected 2D array, got 1D array instead:\narray=[189 132 134 ... 143 120 163].\nReshape your data either using array.reshape(-1, 1) if your data has a single feature or array.reshape(1, -1) if it contains a single sample."
     ]
    }
   ],
   "source": [
    "\n",
    "nb_classifier.fit(X_train, y_train)\n",
    "nb_train_preds = nb_classifier.predict(X_train)\n",
    "nb_test_preds = nb_classifier.predict(X_test)"
   ]
  },
  {
   "cell_type": "code",
   "execution_count": 84,
   "metadata": {},
   "outputs": [],
   "source": [
    "nb_train_score = accuracy_score(y_train, nb_train_preds)\n",
    "nb_test_score = accuracy_score(y_test, nb_test_preds)"
   ]
  },
  {
   "cell_type": "code",
   "execution_count": 85,
   "metadata": {},
   "outputs": [
    {
     "name": "stdout",
     "output_type": "stream",
     "text": [
      "Multinomial Naive Bayes\n",
      "Training Accuracy: 0.7146 \t\t Testing Accuracy: 0.6715\n",
      "\n",
      "----------------------------------------------------------------------\n"
     ]
    }
   ],
   "source": [
    "print(\"Multinomial Naive Bayes\")\n",
    "print(\"Training Accuracy: {:.4} \\t\\t Testing Accuracy: {:.4}\".format(nb_train_score, nb_test_score))\n",
    "print(\"\")\n",
    "print('-'*70)"
   ]
  },
  {
   "cell_type": "markdown",
   "metadata": {},
   "source": [
    "#### Confusion Matrix (Naive Bayes Model)"
   ]
  },
  {
   "cell_type": "code",
   "execution_count": 86,
   "metadata": {},
   "outputs": [
    {
     "name": "stdout",
     "output_type": "stream",
     "text": [
      "              precision    recall  f1-score   support\n",
      "\n",
      "           0       0.68      0.64      0.66     29966\n",
      "           1       0.66      0.70      0.68     30034\n",
      "\n",
      "    accuracy                           0.67     60000\n",
      "   macro avg       0.67      0.67      0.67     60000\n",
      "weighted avg       0.67      0.67      0.67     60000\n",
      "\n"
     ]
    },
    {
     "data": {
      "image/png": "[encoded data removed]",
      "text/plain": [
       "<Figure size 432x288 with 1 Axes>"
      ]
     },
     "metadata": {},
     "output_type": "display_data"
    }
   ],
   "source": [
    "from sklearn.metrics import confusion_matrix, classification_report\n",
    "import seaborn as sns; sns.set()\n",
    "\n",
    "\n",
    "mat = confusion_matrix(y_test, nb_test_preds)\n",
    "sns.heatmap(mat.T, square=True, annot=True, fmt='d', cbar=False,\n",
    "            xticklabels=['Spoiler', 'Not_Spoiler'], yticklabels=['Spoiler', 'Not_Spoiler'])\n",
    "plt.xlabel('Actual')\n",
    "plt.ylabel('Predicted', rotation='horizontal', ha='right');\n",
    "print(classification_report(y_test, nb_test_preds))"
   ]
  },
  {
   "cell_type": "code",
   "execution_count": 69,
   "metadata": {},
   "outputs": [
    {
     "data": {
      "text/plain": [
       "array([[19182, 10784],\n",
       "       [ 8926, 21108]])"
      ]
     },
     "execution_count": 69,
     "metadata": {},
     "output_type": "execute_result"
    }
   ],
   "source": [
    "mat"
   ]
  },
  {
   "cell_type": "markdown",
   "metadata": {},
   "source": [
    "## (MISC. cells below)"
   ]
  },
  {
   "cell_type": "code",
   "execution_count": 79,
   "metadata": {},
   "outputs": [
    {
     "data": {
      "text/plain": [
       "0    422989\n",
       "Name: is_spoiler, dtype: int64"
      ]
     },
     "execution_count": 79,
     "metadata": {},
     "output_type": "execute_result"
    }
   ],
   "source": [
    "df[no_spoiler].is_spoiler.value_counts()"
   ]
  },
  {
   "cell_type": "markdown",
   "metadata": {},
   "source": [
    "### Stemming and Lemming"
   ]
  },
  {
   "cell_type": "code",
   "execution_count": 39,
   "metadata": {},
   "outputs": [],
   "source": [
    "# Instantiating objects\n",
    "ps = PorterStemmer()\n"
   ]
  },
  {
   "cell_type": "markdown",
   "metadata": {},
   "source": [
    "#### Stemming"
   ]
  },
  {
   "cell_type": "code",
   "execution_count": 41,
   "metadata": {},
   "outputs": [],
   "source": [
    "def stemmer(review):\n",
    "    stemmed_review = [ps.stem(w) for w in review]\n",
    "    return stemmed_review"
   ]
  },
  {
   "cell_type": "code",
   "execution_count": 47,
   "metadata": {},
   "outputs": [
    {
     "data": {
      "text/plain": [
       "['oscar',\n",
       " 'year',\n",
       " 'shawshank',\n",
       " 'redempt',\n",
       " 'written',\n",
       " 'direct',\n",
       " 'frank',\n",
       " 'darabont',\n",
       " 'novella',\n",
       " 'rita']"
      ]
     },
     "execution_count": 47,
     "metadata": {},
     "output_type": "execute_result"
    }
   ],
   "source": [
    "stemmer(final_words)[:10]"
   ]
  },
  {
   "cell_type": "markdown",
   "metadata": {},
   "source": [
    "#### Lemming"
   ]
  },
  {
   "cell_type": "code",
   "execution_count": 44,
   "metadata": {},
   "outputs": [],
   "source": [
    "def lemmer(review):\n",
    "    lemmed_review = [lemmatizer.lemmatize(w) for w in review]\n",
    "    return lemmed_review"
   ]
  },
  {
   "cell_type": "code",
   "execution_count": 67,
   "metadata": {},
   "outputs": [
    {
     "data": {
      "text/plain": [
       "418"
      ]
     },
     "execution_count": 67,
     "metadata": {},
     "output_type": "execute_result"
    }
   ],
   "source": [
    "len(lemmer(final_words))"
   ]
  },
  {
   "cell_type": "code",
   "execution_count": 1,
   "metadata": {},
   "outputs": [
    {
     "ename": "NameError",
     "evalue": "name 'final_words' is not defined",
     "output_type": "error",
     "traceback": [
      "\u001b[0;31m---------------------------------------------------------------------------\u001b[0m",
      "\u001b[0;31mNameError\u001b[0m                                 Traceback (most recent call last)",
      "\u001b[0;32m<ipython-input-1-a9fcb589ddcf>\u001b[0m in \u001b[0;36m<module>\u001b[0;34m\u001b[0m\n\u001b[0;32m----> 1\u001b[0;31m \u001b[0mfinal_words\u001b[0m\u001b[0;34m[\u001b[0m\u001b[0;34m:\u001b[0m\u001b[0;36m25\u001b[0m\u001b[0;34m]\u001b[0m\u001b[0;34m\u001b[0m\u001b[0;34m\u001b[0m\u001b[0m\n\u001b[0m",
      "\u001b[0;31mNameError\u001b[0m: name 'final_words' is not defined"
     ]
    }
   ],
   "source": [
    "final_words[:25]"
   ]
  },
  {
   "cell_type": "code",
   "execution_count": null,
   "metadata": {},
   "outputs": [],
   "source": []
  }
 ],
 "metadata": {
  "kernelspec": {
   "display_name": "Python 3",
   "language": "python",
   "name": "python3"
  },
  "language_info": {
   "codemirror_mode": {
    "name": "ipython",
    "version": 3
   },
   "file_extension": ".py",
   "mimetype": "text/x-python",
   "name": "python",
   "nbconvert_exporter": "python",
   "pygments_lexer": "ipython3",
   "version": "3.7.6"
  }
 },
 "nbformat": 4,
 "nbformat_minor": 4
}
